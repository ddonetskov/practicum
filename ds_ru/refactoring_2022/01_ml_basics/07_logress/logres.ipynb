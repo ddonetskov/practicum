{
 "cells": [
  {
   "cell_type": "code",
   "execution_count": 1,
   "id": "75bfe5ea-06d9-4002-8076-2b5c8d1d37b3",
   "metadata": {},
   "outputs": [],
   "source": [
    "import numpy as np\n",
    "import pandas as pd\n",
    "\n",
    "from sklearn.linear_model import LogisticRegression\n",
    "from sklearn.metrics import accuracy_score, precision_score, recall_score, f1_score"
   ]
  },
  {
   "cell_type": "markdown",
   "id": "d1f969da-be89-4ccb-aa31-d3e867b8b70a",
   "metadata": {},
   "source": [
    "# Functions"
   ]
  },
  {
   "cell_type": "code",
   "execution_count": 2,
   "id": "76eb622b-8fe3-4ade-81c9-f7f3b1b5c330",
   "metadata": {},
   "outputs": [],
   "source": [
    "def scoring(y_true, y_pred):\n",
    "    \n",
    "    print(f'accuracy: {accuracy_score(y_true, y_pred):.5f}')\n",
    "    print(f'precision: {precision_score(y_true, y_pred):.5f}')\n",
    "    print(f'recall: {recall_score(y_true, y_pred):.5f}')\n",
    "    print(f'f1: {f1_score(y_true, y_pred):.5f}')    "
   ]
  },
  {
   "cell_type": "markdown",
   "id": "df4b3b4b-e725-4ad1-9625-f7fea66909aa",
   "metadata": {},
   "source": [
    "# Data"
   ]
  },
  {
   "cell_type": "code",
   "execution_count": 3,
   "id": "d0d4ce63-5844-4fbc-b46a-2f75e118d6cc",
   "metadata": {},
   "outputs": [],
   "source": [
    "df = pd.read_csv('/home/dmdp/workspace/datasets/car_loan_default/v1/train.zip', low_memory=False)"
   ]
  },
  {
   "cell_type": "code",
   "execution_count": 4,
   "id": "3a16a118-f065-4669-96b6-f3647e7d8e33",
   "metadata": {},
   "outputs": [
    {
     "name": "stdout",
     "output_type": "stream",
     "text": [
      "<class 'pandas.core.frame.DataFrame'>\n",
      "RangeIndex: 121856 entries, 0 to 121855\n",
      "Data columns (total 40 columns):\n",
      " #   Column                      Non-Null Count   Dtype  \n",
      "---  ------                      --------------   -----  \n",
      " 0   id                          121856 non-null  int64  \n",
      " 1   client_income               118234 non-null  float64\n",
      " 2   car_owned                   118275 non-null  float64\n",
      " 3   bike_owned                  118232 non-null  float64\n",
      " 4   active_loan                 118221 non-null  float64\n",
      " 5   house_own                   118195 non-null  float64\n",
      " 6   child_count                 118218 non-null  float64\n",
      " 7   credit_amount               118219 non-null  float64\n",
      " 8   loan_annuity                117030 non-null  float64\n",
      " 9   accompany_client            120110 non-null  object \n",
      " 10  client_income_type          118155 non-null  object \n",
      " 11  client_education            118211 non-null  object \n",
      " 12  client_marital_status       118383 non-null  object \n",
      " 13  client_gender               119443 non-null  object \n",
      " 14  loan_contract_type          118205 non-null  object \n",
      " 15  client_housing_type         118169 non-null  object \n",
      " 16  population_region_relative  116988 non-null  float64\n",
      " 17  age_days                    118239 non-null  float64\n",
      " 18  employed_days               118190 non-null  float64\n",
      " 19  registration_days           118225 non-null  float64\n",
      " 20  id_days                     115871 non-null  float64\n",
      " 21  own_house_age               41761 non-null   float64\n",
      " 22  mobile_tag                  121856 non-null  int64  \n",
      " 23  homephone_tag               121856 non-null  int64  \n",
      " 24  workphone_working           121856 non-null  int64  \n",
      " 25  client_occupation           80421 non-null   object \n",
      " 26  client_family_members       119446 non-null  float64\n",
      " 27  cleint_city_rating          119447 non-null  float64\n",
      " 28  application_process_day     119428 non-null  float64\n",
      " 29  application_process_hour    118193 non-null  float64\n",
      " 30  client_permanent_match_tag  121856 non-null  object \n",
      " 31  client_contact_work_tag     121856 non-null  object \n",
      " 32  type_organization           118247 non-null  object \n",
      " 33  score_source_1              53021 non-null   float64\n",
      " 34  score_source_2              116170 non-null  float64\n",
      " 35  score_source_3              94934 non-null   float64\n",
      " 36  social_circle_default       59928 non-null   float64\n",
      " 37  phone_change                118192 non-null  float64\n",
      " 38  credit_bureau               103316 non-null  float64\n",
      " 39  default                     121856 non-null  int64  \n",
      "dtypes: float64(24), int64(5), object(11)\n",
      "memory usage: 37.2+ MB\n"
     ]
    }
   ],
   "source": [
    "df.info()"
   ]
  },
  {
   "cell_type": "code",
   "execution_count": null,
   "id": "f2b5f62b-4c60-4871-ada0-32fede9c10bd",
   "metadata": {},
   "outputs": [],
   "source": []
  },
  {
   "cell_type": "code",
   "execution_count": 5,
   "id": "7a655d0c-825e-4209-bcbb-9c9ae8eb3382",
   "metadata": {},
   "outputs": [],
   "source": [
    "df['credit_amount_to_income'] = df['credit_amount'] / df['client_income']"
   ]
  },
  {
   "cell_type": "code",
   "execution_count": 6,
   "id": "a4fe6fb9-426f-4bd2-a184-e533dc44ee6c",
   "metadata": {},
   "outputs": [
    {
     "data": {
      "text/html": [
       "<div>\n",
       "<style scoped>\n",
       "    .dataframe tbody tr th:only-of-type {\n",
       "        vertical-align: middle;\n",
       "    }\n",
       "\n",
       "    .dataframe tbody tr th {\n",
       "        vertical-align: top;\n",
       "    }\n",
       "\n",
       "    .dataframe thead th {\n",
       "        text-align: right;\n",
       "    }\n",
       "</style>\n",
       "<table border=\"1\" class=\"dataframe\">\n",
       "  <thead>\n",
       "    <tr style=\"text-align: right;\">\n",
       "      <th></th>\n",
       "      <th>count</th>\n",
       "      <th>mean</th>\n",
       "      <th>std</th>\n",
       "      <th>min</th>\n",
       "      <th>25%</th>\n",
       "      <th>50%</th>\n",
       "      <th>75%</th>\n",
       "      <th>max</th>\n",
       "    </tr>\n",
       "    <tr>\n",
       "      <th>default</th>\n",
       "      <th></th>\n",
       "      <th></th>\n",
       "      <th></th>\n",
       "      <th></th>\n",
       "      <th></th>\n",
       "      <th></th>\n",
       "      <th></th>\n",
       "      <th></th>\n",
       "    </tr>\n",
       "  </thead>\n",
       "  <tbody>\n",
       "    <tr>\n",
       "      <th>0</th>\n",
       "      <td>105408.0</td>\n",
       "      <td>3.972049</td>\n",
       "      <td>2.708251</td>\n",
       "      <td>0.0375</td>\n",
       "      <td>2.018667</td>\n",
       "      <td>3.273971</td>\n",
       "      <td>5.200337</td>\n",
       "      <td>49.227200</td>\n",
       "    </tr>\n",
       "    <tr>\n",
       "      <th>1</th>\n",
       "      <td>9300.0</td>\n",
       "      <td>3.912652</td>\n",
       "      <td>2.602159</td>\n",
       "      <td>0.2264</td>\n",
       "      <td>2.128121</td>\n",
       "      <td>3.309714</td>\n",
       "      <td>5.000000</td>\n",
       "      <td>28.392857</td>\n",
       "    </tr>\n",
       "  </tbody>\n",
       "</table>\n",
       "</div>"
      ],
      "text/plain": [
       "            count      mean       std     min       25%       50%       75%  \\\n",
       "default                                                                       \n",
       "0        105408.0  3.972049  2.708251  0.0375  2.018667  3.273971  5.200337   \n",
       "1          9300.0  3.912652  2.602159  0.2264  2.128121  3.309714  5.000000   \n",
       "\n",
       "               max  \n",
       "default             \n",
       "0        49.227200  \n",
       "1        28.392857  "
      ]
     },
     "execution_count": 6,
     "metadata": {},
     "output_type": "execute_result"
    }
   ],
   "source": [
    "df.groupby('default')['credit_amount_to_income'].describe()"
   ]
  },
  {
   "cell_type": "code",
   "execution_count": null,
   "id": "759a16a3-2f0a-4782-aeff-a53bbaa4b8fd",
   "metadata": {},
   "outputs": [],
   "source": []
  },
  {
   "cell_type": "markdown",
   "id": "ce479d15-bc3f-4138-a521-eeaa30ef42a5",
   "metadata": {},
   "source": [
    "# Models"
   ]
  },
  {
   "cell_type": "markdown",
   "id": "71a9a57f-acc5-474e-941d-ba54caf4fdb0",
   "metadata": {},
   "source": [
    "## M1: All Rows, Naive Selection of Features"
   ]
  },
  {
   "cell_type": "code",
   "execution_count": 7,
   "id": "b9646012-ddfb-4345-ae5a-fd3fd8c59c5c",
   "metadata": {},
   "outputs": [],
   "source": [
    "clf_1 = LogisticRegression(random_state=0) #, class_weight='balanced')"
   ]
  },
  {
   "cell_type": "code",
   "execution_count": 8,
   "id": "f8d17e26-2162-4a69-8648-a204168d5d97",
   "metadata": {},
   "outputs": [],
   "source": [
    "SAMPLE_SIZE_0 = 30000"
   ]
  },
  {
   "cell_type": "code",
   "execution_count": 9,
   "id": "49aed0ee-6e8e-4f02-b6ad-ae81f0bc6083",
   "metadata": {},
   "outputs": [],
   "source": [
    "feature_columns = ['client_income', 'age_days', 'employed_days', 'credit_amount_to_income', 'credit_amount']\n",
    "target_column = 'default'\n",
    "\n",
    "dft = pd.concat([\n",
    "    df.dropna(subset=feature_columns).query('default == 0').sample(SAMPLE_SIZE_0),\n",
    "    df.dropna(subset=feature_columns).query('default == 1')\n",
    "    ])[feature_columns + [target_column]]\n",
    "\n",
    "X = dft[feature_columns]\n",
    "y = dft.loc[dft.index][target_column]"
   ]
  },
  {
   "cell_type": "code",
   "execution_count": 10,
   "id": "66bacab1-8a49-49f7-bac9-e6cfb9c5328a",
   "metadata": {},
   "outputs": [
    {
     "data": {
      "text/html": [
       "<div>\n",
       "<style scoped>\n",
       "    .dataframe tbody tr th:only-of-type {\n",
       "        vertical-align: middle;\n",
       "    }\n",
       "\n",
       "    .dataframe tbody tr th {\n",
       "        vertical-align: top;\n",
       "    }\n",
       "\n",
       "    .dataframe thead th {\n",
       "        text-align: right;\n",
       "    }\n",
       "</style>\n",
       "<table border=\"1\" class=\"dataframe\">\n",
       "  <thead>\n",
       "    <tr style=\"text-align: right;\">\n",
       "      <th></th>\n",
       "      <th>count</th>\n",
       "      <th>mean</th>\n",
       "      <th>std</th>\n",
       "      <th>min</th>\n",
       "      <th>25%</th>\n",
       "      <th>50%</th>\n",
       "      <th>75%</th>\n",
       "      <th>max</th>\n",
       "    </tr>\n",
       "    <tr>\n",
       "      <th>default</th>\n",
       "      <th></th>\n",
       "      <th></th>\n",
       "      <th></th>\n",
       "      <th></th>\n",
       "      <th></th>\n",
       "      <th></th>\n",
       "      <th></th>\n",
       "      <th></th>\n",
       "    </tr>\n",
       "  </thead>\n",
       "  <tbody>\n",
       "    <tr>\n",
       "      <th>0</th>\n",
       "      <td>30000.0</td>\n",
       "      <td>16937.785321</td>\n",
       "      <td>11099.608875</td>\n",
       "      <td>2565.0</td>\n",
       "      <td>11250.0</td>\n",
       "      <td>14850.0</td>\n",
       "      <td>20250.0</td>\n",
       "      <td>675000.0</td>\n",
       "    </tr>\n",
       "    <tr>\n",
       "      <th>1</th>\n",
       "      <td>8770.0</td>\n",
       "      <td>16055.474726</td>\n",
       "      <td>8284.006595</td>\n",
       "      <td>2790.0</td>\n",
       "      <td>11250.0</td>\n",
       "      <td>13500.0</td>\n",
       "      <td>20250.0</td>\n",
       "      <td>135000.0</td>\n",
       "    </tr>\n",
       "  </tbody>\n",
       "</table>\n",
       "</div>"
      ],
      "text/plain": [
       "           count          mean           std     min      25%      50%  \\\n",
       "default                                                                  \n",
       "0        30000.0  16937.785321  11099.608875  2565.0  11250.0  14850.0   \n",
       "1         8770.0  16055.474726   8284.006595  2790.0  11250.0  13500.0   \n",
       "\n",
       "             75%       max  \n",
       "default                     \n",
       "0        20250.0  675000.0  \n",
       "1        20250.0  135000.0  "
      ]
     },
     "execution_count": 10,
     "metadata": {},
     "output_type": "execute_result"
    }
   ],
   "source": [
    "dft.groupby('default')['client_income'].describe()"
   ]
  },
  {
   "cell_type": "code",
   "execution_count": 11,
   "id": "73b38aa2-5f4c-436e-a6a6-e76a52cf7610",
   "metadata": {},
   "outputs": [
    {
     "name": "stdout",
     "output_type": "stream",
     "text": [
      "[0 1]\n"
     ]
    },
    {
     "data": {
      "text/plain": [
       "0.7737941707505803"
      ]
     },
     "execution_count": 11,
     "metadata": {},
     "output_type": "execute_result"
    }
   ],
   "source": [
    "clf_1 = clf_1.fit(X, y)\n",
    "print(clf_1.classes_)\n",
    "\n",
    "y_pred = clf_1.predict(X)\n",
    "\n",
    "clf_1.score(X, y)"
   ]
  },
  {
   "cell_type": "code",
   "execution_count": 12,
   "id": "69874d50-2ff7-434a-a165-b21a54b98825",
   "metadata": {},
   "outputs": [
    {
     "name": "stdout",
     "output_type": "stream",
     "text": [
      "accuracy: 0.77379\n",
      "precision: 0.00000\n",
      "recall: 0.00000\n",
      "f1: 0.00000\n"
     ]
    },
    {
     "name": "stderr",
     "output_type": "stream",
     "text": [
      "/home/dmdp/workspace/envs/automl/lib/python3.9/site-packages/sklearn/metrics/_classification.py:1344: UndefinedMetricWarning: Precision is ill-defined and being set to 0.0 due to no predicted samples. Use `zero_division` parameter to control this behavior.\n",
      "  _warn_prf(average, modifier, msg_start, len(result))\n"
     ]
    }
   ],
   "source": [
    "scoring(y_true=y.to_numpy(), y_pred=y_pred)"
   ]
  },
  {
   "cell_type": "markdown",
   "id": "62014acb-26aa-4c80-b1bc-e9dd5c8ec801",
   "metadata": {},
   "source": [
    "## M2: All Rows, Strong Features"
   ]
  },
  {
   "cell_type": "code",
   "execution_count": 13,
   "id": "77e27ae5-4380-4f10-821e-5ae84760c44b",
   "metadata": {},
   "outputs": [],
   "source": [
    "clf_2 = LogisticRegression(random_state=0) #, class_weight='balanced')"
   ]
  },
  {
   "cell_type": "code",
   "execution_count": 14,
   "id": "c95b2875-53a6-49a0-9707-56b8a73f0656",
   "metadata": {},
   "outputs": [],
   "source": [
    "SAMPLE_SIZE_0 = 30000"
   ]
  },
  {
   "cell_type": "code",
   "execution_count": 15,
   "id": "e2ef06bc-ee43-4cbb-bf67-6433ccd7f279",
   "metadata": {},
   "outputs": [],
   "source": [
    "feature_columns = ['loan_annuity', 'age_days', 'employed_days', 'phone_change', 'registration_days', 'credit_amount']\n",
    "target_column = 'default'\n",
    "\n",
    "dft = pd.concat([\n",
    "    df.dropna(subset=feature_columns).query('default == 0').sample(SAMPLE_SIZE_0),\n",
    "    df.dropna(subset=feature_columns).query('default == 1')\n",
    "    ])[feature_columns + [target_column]]\n",
    "\n",
    "X = dft[feature_columns]\n",
    "y = dft.loc[dft.index][target_column]"
   ]
  },
  {
   "cell_type": "code",
   "execution_count": 16,
   "id": "8a2abff1-501c-4e1f-8485-52e086d94f9a",
   "metadata": {},
   "outputs": [
    {
     "data": {
      "text/plain": [
       "(38141, 6)"
      ]
     },
     "execution_count": 16,
     "metadata": {},
     "output_type": "execute_result"
    }
   ],
   "source": [
    "X.shape"
   ]
  },
  {
   "cell_type": "code",
   "execution_count": 17,
   "id": "95082415-e883-4496-a5b8-2cdb54b36e73",
   "metadata": {},
   "outputs": [
    {
     "name": "stdout",
     "output_type": "stream",
     "text": [
      "[0 1]\n"
     ]
    },
    {
     "data": {
      "text/plain": [
       "0.7865551506253113"
      ]
     },
     "execution_count": 17,
     "metadata": {},
     "output_type": "execute_result"
    }
   ],
   "source": [
    "clf_2 = clf_2.fit(X, y)\n",
    "print(clf_2.classes_)\n",
    "\n",
    "y_pred = clf_2.predict(X)\n",
    "\n",
    "clf_2.score(X, y)"
   ]
  },
  {
   "cell_type": "code",
   "execution_count": 18,
   "id": "335cad94-c5cc-4632-a10a-b54eb662bd12",
   "metadata": {},
   "outputs": [
    {
     "name": "stdout",
     "output_type": "stream",
     "text": [
      "accuracy: 0.78656\n",
      "precision: 0.00000\n",
      "recall: 0.00000\n",
      "f1: 0.00000\n"
     ]
    },
    {
     "name": "stderr",
     "output_type": "stream",
     "text": [
      "/home/dmdp/workspace/envs/automl/lib/python3.9/site-packages/sklearn/metrics/_classification.py:1344: UndefinedMetricWarning: Precision is ill-defined and being set to 0.0 due to no predicted samples. Use `zero_division` parameter to control this behavior.\n",
      "  _warn_prf(average, modifier, msg_start, len(result))\n"
     ]
    }
   ],
   "source": [
    "scoring(y_true=y.to_numpy(), y_pred=y_pred)"
   ]
  },
  {
   "cell_type": "markdown",
   "id": "e28cfbf0-1199-4843-bbfd-146a79a0c99c",
   "metadata": {},
   "source": [
    "## M3: Selected Rows"
   ]
  },
  {
   "cell_type": "code",
   "execution_count": 44,
   "id": "e0a7af17-ca3a-4045-aebb-000720a02e7c",
   "metadata": {},
   "outputs": [],
   "source": [
    "dft = df.query('client_income >= 20000 and client_income <= 80000').sort_values(by='credit_amount_to_income').copy()"
   ]
  },
  {
   "cell_type": "code",
   "execution_count": 45,
   "id": "867edab7-67fd-46ef-b4ea-5d6a11177c02",
   "metadata": {},
   "outputs": [],
   "source": [
    "SAMPLE_SIZE_0 = 1000\n",
    "SAMPLE_SIZE_1 = 1000"
   ]
  },
  {
   "cell_type": "code",
   "execution_count": 46,
   "id": "9441c7e9-def9-43c0-bd78-bdbacff551c4",
   "metadata": {},
   "outputs": [],
   "source": [
    "feature_columns = ['loan_annuity', 'age_days', 'employed_days', 'phone_change', 'registration_days', 'credit_amount']\n",
    "target_column = 'default'\n",
    "\n",
    "dft = pd.concat([\n",
    "    dft.dropna(subset=feature_columns).query('credit_amount_to_income <= 2 and default == 0').sample(SAMPLE_SIZE_0, random_state=42),\n",
    "    dft.dropna(subset=feature_columns).query('credit_amount_to_income > 2 and default == 1').sample(SAMPLE_SIZE_1, random_state=42)\n",
    "    ])[feature_columns + [target_column]]\n",
    "\n",
    "X = dft[feature_columns]\n",
    "y = dft.loc[dft.index][target_column]"
   ]
  },
  {
   "cell_type": "code",
   "execution_count": 47,
   "id": "2a14b3bf-d59b-47a7-a47e-8a5c19925520",
   "metadata": {},
   "outputs": [
    {
     "data": {
      "text/html": [
       "<div>\n",
       "<style scoped>\n",
       "    .dataframe tbody tr th:only-of-type {\n",
       "        vertical-align: middle;\n",
       "    }\n",
       "\n",
       "    .dataframe tbody tr th {\n",
       "        vertical-align: top;\n",
       "    }\n",
       "\n",
       "    .dataframe thead th {\n",
       "        text-align: right;\n",
       "    }\n",
       "</style>\n",
       "<table border=\"1\" class=\"dataframe\">\n",
       "  <thead>\n",
       "    <tr style=\"text-align: right;\">\n",
       "      <th></th>\n",
       "      <th>loan_annuity</th>\n",
       "      <th>age_days</th>\n",
       "      <th>employed_days</th>\n",
       "      <th>phone_change</th>\n",
       "      <th>registration_days</th>\n",
       "      <th>credit_amount</th>\n",
       "      <th>default</th>\n",
       "    </tr>\n",
       "  </thead>\n",
       "  <tbody>\n",
       "    <tr>\n",
       "      <th>29951</th>\n",
       "      <td>3163.05</td>\n",
       "      <td>17684.0</td>\n",
       "      <td>1609.0</td>\n",
       "      <td>957.0</td>\n",
       "      <td>1665.0</td>\n",
       "      <td>52128.00</td>\n",
       "      <td>0</td>\n",
       "    </tr>\n",
       "    <tr>\n",
       "      <th>73472</th>\n",
       "      <td>2074.50</td>\n",
       "      <td>22222.0</td>\n",
       "      <td>365243.0</td>\n",
       "      <td>0.0</td>\n",
       "      <td>8986.0</td>\n",
       "      <td>46800.00</td>\n",
       "      <td>0</td>\n",
       "    </tr>\n",
       "    <tr>\n",
       "      <th>93970</th>\n",
       "      <td>5332.95</td>\n",
       "      <td>14545.0</td>\n",
       "      <td>637.0</td>\n",
       "      <td>3274.0</td>\n",
       "      <td>8689.0</td>\n",
       "      <td>67500.00</td>\n",
       "      <td>0</td>\n",
       "    </tr>\n",
       "    <tr>\n",
       "      <th>12545</th>\n",
       "      <td>1125.00</td>\n",
       "      <td>14280.0</td>\n",
       "      <td>4459.0</td>\n",
       "      <td>482.0</td>\n",
       "      <td>8204.0</td>\n",
       "      <td>22500.00</td>\n",
       "      <td>0</td>\n",
       "    </tr>\n",
       "    <tr>\n",
       "      <th>12327</th>\n",
       "      <td>2446.20</td>\n",
       "      <td>19540.0</td>\n",
       "      <td>2001.0</td>\n",
       "      <td>1991.0</td>\n",
       "      <td>6016.0</td>\n",
       "      <td>50849.55</td>\n",
       "      <td>0</td>\n",
       "    </tr>\n",
       "    <tr>\n",
       "      <th>...</th>\n",
       "      <td>...</td>\n",
       "      <td>...</td>\n",
       "      <td>...</td>\n",
       "      <td>...</td>\n",
       "      <td>...</td>\n",
       "      <td>...</td>\n",
       "      <td>...</td>\n",
       "    </tr>\n",
       "    <tr>\n",
       "      <th>106506</th>\n",
       "      <td>2534.85</td>\n",
       "      <td>14763.0</td>\n",
       "      <td>713.0</td>\n",
       "      <td>654.0</td>\n",
       "      <td>7355.0</td>\n",
       "      <td>51846.30</td>\n",
       "      <td>1</td>\n",
       "    </tr>\n",
       "    <tr>\n",
       "      <th>65802</th>\n",
       "      <td>3317.40</td>\n",
       "      <td>14258.0</td>\n",
       "      <td>820.0</td>\n",
       "      <td>1594.0</td>\n",
       "      <td>8366.0</td>\n",
       "      <td>102429.00</td>\n",
       "      <td>1</td>\n",
       "    </tr>\n",
       "    <tr>\n",
       "      <th>115810</th>\n",
       "      <td>4500.00</td>\n",
       "      <td>15825.0</td>\n",
       "      <td>1686.0</td>\n",
       "      <td>551.0</td>\n",
       "      <td>6434.0</td>\n",
       "      <td>90000.00</td>\n",
       "      <td>1</td>\n",
       "    </tr>\n",
       "    <tr>\n",
       "      <th>111978</th>\n",
       "      <td>5909.40</td>\n",
       "      <td>15187.0</td>\n",
       "      <td>2537.0</td>\n",
       "      <td>1884.0</td>\n",
       "      <td>297.0</td>\n",
       "      <td>74628.00</td>\n",
       "      <td>1</td>\n",
       "    </tr>\n",
       "    <tr>\n",
       "      <th>69649</th>\n",
       "      <td>2608.65</td>\n",
       "      <td>16128.0</td>\n",
       "      <td>411.0</td>\n",
       "      <td>0.0</td>\n",
       "      <td>2431.0</td>\n",
       "      <td>80865.00</td>\n",
       "      <td>1</td>\n",
       "    </tr>\n",
       "  </tbody>\n",
       "</table>\n",
       "<p>2000 rows × 7 columns</p>\n",
       "</div>"
      ],
      "text/plain": [
       "        loan_annuity  age_days  employed_days  phone_change  \\\n",
       "29951        3163.05   17684.0         1609.0         957.0   \n",
       "73472        2074.50   22222.0       365243.0           0.0   \n",
       "93970        5332.95   14545.0          637.0        3274.0   \n",
       "12545        1125.00   14280.0         4459.0         482.0   \n",
       "12327        2446.20   19540.0         2001.0        1991.0   \n",
       "...              ...       ...            ...           ...   \n",
       "106506       2534.85   14763.0          713.0         654.0   \n",
       "65802        3317.40   14258.0          820.0        1594.0   \n",
       "115810       4500.00   15825.0         1686.0         551.0   \n",
       "111978       5909.40   15187.0         2537.0        1884.0   \n",
       "69649        2608.65   16128.0          411.0           0.0   \n",
       "\n",
       "        registration_days  credit_amount  default  \n",
       "29951              1665.0       52128.00        0  \n",
       "73472              8986.0       46800.00        0  \n",
       "93970              8689.0       67500.00        0  \n",
       "12545              8204.0       22500.00        0  \n",
       "12327              6016.0       50849.55        0  \n",
       "...                   ...            ...      ...  \n",
       "106506             7355.0       51846.30        1  \n",
       "65802              8366.0      102429.00        1  \n",
       "115810             6434.0       90000.00        1  \n",
       "111978              297.0       74628.00        1  \n",
       "69649              2431.0       80865.00        1  \n",
       "\n",
       "[2000 rows x 7 columns]"
      ]
     },
     "execution_count": 47,
     "metadata": {},
     "output_type": "execute_result"
    }
   ],
   "source": [
    "dft"
   ]
  },
  {
   "cell_type": "code",
   "execution_count": 48,
   "id": "4c5eff42-bbc3-41ca-be6a-561065a11eb9",
   "metadata": {},
   "outputs": [],
   "source": [
    "clf_3 = LogisticRegression(random_state=0) #, class_weight='balanced')"
   ]
  },
  {
   "cell_type": "code",
   "execution_count": 49,
   "id": "26f3d43d-7993-41ab-b72c-5bd548f5e22e",
   "metadata": {},
   "outputs": [
    {
     "name": "stdout",
     "output_type": "stream",
     "text": [
      "[0 1]\n"
     ]
    },
    {
     "data": {
      "text/plain": [
       "0.831"
      ]
     },
     "execution_count": 49,
     "metadata": {},
     "output_type": "execute_result"
    }
   ],
   "source": [
    "clf_3 = clf_3.fit(X, y)\n",
    "print(clf_3.classes_)\n",
    "\n",
    "y_pred = clf_3.predict(X)\n",
    "\n",
    "clf_3.score(X, y)"
   ]
  },
  {
   "cell_type": "code",
   "execution_count": 50,
   "id": "277e9d27-a415-4dd7-bcb6-fbf3a0c3aa29",
   "metadata": {},
   "outputs": [
    {
     "name": "stdout",
     "output_type": "stream",
     "text": [
      "accuracy: 0.83100\n",
      "precision: 0.83034\n",
      "recall: 0.83200\n",
      "f1: 0.83117\n"
     ]
    }
   ],
   "source": [
    "scoring(y_true=y.to_numpy(), y_pred=y_pred)"
   ]
  },
  {
   "cell_type": "code",
   "execution_count": 51,
   "id": "500a4630-c250-42b5-ac3d-29119773b028",
   "metadata": {},
   "outputs": [
    {
     "data": {
      "text/plain": [
       "2000"
      ]
     },
     "execution_count": 51,
     "metadata": {},
     "output_type": "execute_result"
    }
   ],
   "source": [
    "len(y)"
   ]
  },
  {
   "cell_type": "code",
   "execution_count": null,
   "id": "cd46483f-6d96-4ae0-8a1f-15edcc95e738",
   "metadata": {},
   "outputs": [],
   "source": []
  },
  {
   "cell_type": "code",
   "execution_count": null,
   "id": "d0a4ccd3-3a47-4ba8-ab95-0ffd9df164c4",
   "metadata": {},
   "outputs": [],
   "source": []
  },
  {
   "cell_type": "code",
   "execution_count": null,
   "id": "bd76c188-9482-45a3-a51d-a5fa025e44e1",
   "metadata": {},
   "outputs": [],
   "source": []
  },
  {
   "cell_type": "markdown",
   "id": "80ce1d8b-ff42-41dd-95da-27466c33b1c1",
   "metadata": {},
   "source": [
    "# Leftovers - can be ignored"
   ]
  },
  {
   "cell_type": "code",
   "execution_count": null,
   "id": "ede9754e-12bb-48bf-9826-7bf4be60b4ec",
   "metadata": {},
   "outputs": [],
   "source": []
  },
  {
   "cell_type": "code",
   "execution_count": null,
   "id": "795e76d7-7261-4d20-884a-c8fcc695144d",
   "metadata": {},
   "outputs": [
    {
     "data": {
      "text/html": [
       "<div>\n",
       "<style scoped>\n",
       "    .dataframe tbody tr th:only-of-type {\n",
       "        vertical-align: middle;\n",
       "    }\n",
       "\n",
       "    .dataframe tbody tr th {\n",
       "        vertical-align: top;\n",
       "    }\n",
       "\n",
       "    .dataframe thead th {\n",
       "        text-align: right;\n",
       "    }\n",
       "</style>\n",
       "<table border=\"1\" class=\"dataframe\">\n",
       "  <thead>\n",
       "    <tr style=\"text-align: right;\">\n",
       "      <th></th>\n",
       "      <th>client_income</th>\n",
       "      <th>credit_amount</th>\n",
       "      <th>employed_days</th>\n",
       "      <th>default</th>\n",
       "    </tr>\n",
       "  </thead>\n",
       "  <tbody>\n",
       "    <tr>\n",
       "      <th>0</th>\n",
       "      <td>31500</td>\n",
       "      <td>111384</td>\n",
       "      <td>561</td>\n",
       "      <td>0</td>\n",
       "    </tr>\n",
       "    <tr>\n",
       "      <th>1</th>\n",
       "      <td>30600</td>\n",
       "      <td>67500</td>\n",
       "      <td>1660</td>\n",
       "      <td>0</td>\n",
       "    </tr>\n",
       "    <tr>\n",
       "      <th>2</th>\n",
       "      <td>40500</td>\n",
       "      <td>49752</td>\n",
       "      <td>6065</td>\n",
       "      <td>0</td>\n",
       "    </tr>\n",
       "    <tr>\n",
       "      <th>3</th>\n",
       "      <td>38250</td>\n",
       "      <td>67500</td>\n",
       "      <td>675</td>\n",
       "      <td>0</td>\n",
       "    </tr>\n",
       "    <tr>\n",
       "      <th>4</th>\n",
       "      <td>36000</td>\n",
       "      <td>71509</td>\n",
       "      <td>3273</td>\n",
       "      <td>0</td>\n",
       "    </tr>\n",
       "    <tr>\n",
       "      <th>5</th>\n",
       "      <td>31500</td>\n",
       "      <td>122301</td>\n",
       "      <td>810</td>\n",
       "      <td>0</td>\n",
       "    </tr>\n",
       "    <tr>\n",
       "      <th>6</th>\n",
       "      <td>40950</td>\n",
       "      <td>176211</td>\n",
       "      <td>1996</td>\n",
       "      <td>0</td>\n",
       "    </tr>\n",
       "    <tr>\n",
       "      <th>7</th>\n",
       "      <td>36000</td>\n",
       "      <td>13500</td>\n",
       "      <td>735</td>\n",
       "      <td>1</td>\n",
       "    </tr>\n",
       "    <tr>\n",
       "      <th>8</th>\n",
       "      <td>31500</td>\n",
       "      <td>197107</td>\n",
       "      <td>1624</td>\n",
       "      <td>1</td>\n",
       "    </tr>\n",
       "    <tr>\n",
       "      <th>9</th>\n",
       "      <td>36000</td>\n",
       "      <td>27846</td>\n",
       "      <td>3318</td>\n",
       "      <td>0</td>\n",
       "    </tr>\n",
       "  </tbody>\n",
       "</table>\n",
       "</div>"
      ],
      "text/plain": [
       "   client_income  credit_amount  employed_days  default\n",
       "0          31500         111384            561        0\n",
       "1          30600          67500           1660        0\n",
       "2          40500          49752           6065        0\n",
       "3          38250          67500            675        0\n",
       "4          36000          71509           3273        0\n",
       "5          31500         122301            810        0\n",
       "6          40950         176211           1996        0\n",
       "7          36000          13500            735        1\n",
       "8          31500         197107           1624        1\n",
       "9          36000          27846           3318        0"
      ]
     },
     "execution_count": 172,
     "metadata": {},
     "output_type": "execute_result"
    }
   ],
   "source": [
    "df"
   ]
  },
  {
   "cell_type": "code",
   "execution_count": 167,
   "id": "266385d9-d2fb-4ba2-8b2c-0d8b370debc4",
   "metadata": {},
   "outputs": [],
   "source": [
    "feature_columns = ['client_income', 'credit_amount', 'employed_days']\n",
    "target_column = 'default'\n",
    "\n",
    "X = df[feature_columns]\n",
    "y = df[target_column]"
   ]
  },
  {
   "cell_type": "code",
   "execution_count": 169,
   "id": "c16497c8-341c-4112-885d-ccf519ab9b38",
   "metadata": {},
   "outputs": [
    {
     "name": "stdout",
     "output_type": "stream",
     "text": [
      "[0 1]\n"
     ]
    },
    {
     "data": {
      "text/plain": [
       "0.8"
      ]
     },
     "execution_count": 169,
     "metadata": {},
     "output_type": "execute_result"
    }
   ],
   "source": [
    "clf_4 = LogisticRegression(random_state=0) #, class_weight='balanced')\n",
    "\n",
    "clf_4 = clf_4.fit(X, y)\n",
    "print(clf.classes_)\n",
    "\n",
    "y_pred = clf.predict(X)\n",
    "\n",
    "clf_4.score(X, y)"
   ]
  },
  {
   "cell_type": "code",
   "execution_count": 170,
   "id": "61fe7f2f-dded-4ab5-ac32-639d026436fe",
   "metadata": {},
   "outputs": [
    {
     "data": {
      "text/plain": [
       "0    0\n",
       "1    0\n",
       "2    0\n",
       "3    0\n",
       "4    0\n",
       "5    0\n",
       "6    0\n",
       "7    1\n",
       "8    1\n",
       "9    0\n",
       "Name: default, dtype: int64"
      ]
     },
     "execution_count": 170,
     "metadata": {},
     "output_type": "execute_result"
    }
   ],
   "source": [
    "y"
   ]
  },
  {
   "cell_type": "code",
   "execution_count": 48,
   "id": "fcd3649f-74f9-44dc-aa5b-8e1d72b5b8bf",
   "metadata": {},
   "outputs": [
    {
     "data": {
      "text/plain": [
       "array([0, 0, 0, 0, 0, 0, 0, 0, 0, 0])"
      ]
     },
     "execution_count": 48,
     "metadata": {},
     "output_type": "execute_result"
    }
   ],
   "source": [
    "y_pred"
   ]
  },
  {
   "cell_type": "code",
   "execution_count": 49,
   "id": "05c3b0ef-2b4e-4f48-b058-3ddf739a395d",
   "metadata": {},
   "outputs": [],
   "source": [
    "y_proba_1 = clf.predict_proba(X)[:, 1]"
   ]
  },
  {
   "cell_type": "code",
   "execution_count": 50,
   "id": "9fc7b1af-5f07-4aad-b253-378c112cd83b",
   "metadata": {},
   "outputs": [],
   "source": [
    "threshold = 0.5 \n",
    "y_pred = [0 if p < threshold else 1 for p in y_proba_1]"
   ]
  },
  {
   "cell_type": "code",
   "execution_count": 51,
   "id": "271a3451-b7b8-4501-ba5f-ef3eb0240d44",
   "metadata": {},
   "outputs": [
    {
     "name": "stdout",
     "output_type": "stream",
     "text": [
      "0.8\n"
     ]
    }
   ],
   "source": [
    "from sklearn.metrics import accuracy_score\n",
    "\n",
    "acc = accuracy_score(y, y_pred)\n",
    "print(acc)"
   ]
  },
  {
   "cell_type": "code",
   "execution_count": null,
   "id": "ff46b980-9139-44e1-9fd1-dd558d26d5b5",
   "metadata": {},
   "outputs": [],
   "source": []
  },
  {
   "cell_type": "code",
   "execution_count": 52,
   "id": "a0857e67-841e-47fc-8ce4-d2a9d6f8fe39",
   "metadata": {},
   "outputs": [
    {
     "name": "stdout",
     "output_type": "stream",
     "text": [
      "0.8\n"
     ]
    }
   ],
   "source": [
    "from sklearn.metrics import accuracy_score\n",
    "\n",
    "threshold = 0.55\n",
    "y_pred = [0 if p < threshold else 1 for p in y_proba_1]\n",
    "acc = accuracy_score(y, y_pred)\n",
    "print(acc)"
   ]
  },
  {
   "cell_type": "code",
   "execution_count": 53,
   "id": "37cc211b-e49a-4d5e-a2f3-35d8fcdef0ed",
   "metadata": {},
   "outputs": [
    {
     "data": {
      "text/plain": [
       "0    0\n",
       "1    0\n",
       "2    0\n",
       "3    0\n",
       "4    0\n",
       "5    0\n",
       "6    0\n",
       "7    1\n",
       "8    1\n",
       "9    0\n",
       "Name: default, dtype: int64"
      ]
     },
     "execution_count": 53,
     "metadata": {},
     "output_type": "execute_result"
    }
   ],
   "source": [
    "y"
   ]
  },
  {
   "cell_type": "code",
   "execution_count": 54,
   "id": "a6ad5c10-0f59-4334-8687-9b7cf5d9da31",
   "metadata": {},
   "outputs": [
    {
     "data": {
      "text/plain": [
       "[0, 0, 0, 0, 0, 0, 0, 0, 0, 0]"
      ]
     },
     "execution_count": 54,
     "metadata": {},
     "output_type": "execute_result"
    }
   ],
   "source": [
    "y_pred"
   ]
  },
  {
   "cell_type": "code",
   "execution_count": null,
   "id": "7706bf37-2e2f-40fd-a519-2d69904b12a8",
   "metadata": {},
   "outputs": [],
   "source": []
  },
  {
   "cell_type": "code",
   "execution_count": null,
   "id": "58a6213c-457e-480d-b760-d4dd067de35a",
   "metadata": {},
   "outputs": [],
   "source": []
  },
  {
   "cell_type": "code",
   "execution_count": null,
   "id": "81adf522-00ba-4a9a-bb07-7f87b02167a8",
   "metadata": {},
   "outputs": [],
   "source": []
  },
  {
   "cell_type": "code",
   "execution_count": null,
   "id": "5595fcb5-6b53-4330-9bc6-84997691c322",
   "metadata": {},
   "outputs": [],
   "source": []
  },
  {
   "cell_type": "code",
   "execution_count": null,
   "id": "d0625477-1323-4a2c-a9f7-55161b2995a7",
   "metadata": {},
   "outputs": [],
   "source": [
    "from sklearn.metrics import accuracy_score\n",
    "\n",
    "# прогнозные значения\n",
    "y_pred = [0, 0, 0, 1, 0, 1, 0, 0, 0, 1, 1, 0, 0, 1, 0, 0, 0, 0, 0, 0, 1]\n",
    "# истинные значения\n",
    "y_true = [0, 0, 0, 0, 0, 0, 0, 1, 0, 1, 0, 0, 0, 1, 0, 0, 0, 0, 0, 0, 1]\n",
    "\n",
    "acc = accuracy_score(y_true, y_pred)\n",
    "\n",
    "print(acc)"
   ]
  },
  {
   "cell_type": "code",
   "execution_count": null,
   "id": "b29c5466-9631-4d7a-af70-f652693e41f4",
   "metadata": {},
   "outputs": [],
   "source": []
  },
  {
   "cell_type": "code",
   "execution_count": 409,
   "id": "d9f387da-c337-4f30-8a09-7f85c555c34f",
   "metadata": {},
   "outputs": [],
   "source": [
    "import numpy as np"
   ]
  },
  {
   "cell_type": "code",
   "execution_count": 417,
   "id": "f15b9eef-9d3a-4168-977a-0ae9c1d06f74",
   "metadata": {},
   "outputs": [
    {
     "name": "stdout",
     "output_type": "stream",
     "text": [
      "[0 1]\n",
      "[1 0 0 0 1 0 1 1 0]\n"
     ]
    },
    {
     "data": {
      "text/plain": [
       "0.7777777777777778"
      ]
     },
     "execution_count": 417,
     "metadata": {},
     "output_type": "execute_result"
    }
   ],
   "source": [
    "X = [[176], [165], [170], [168], [180], [174], [179], [176], [171]]\n",
    "y = [1, 0, 1, 0, 1, 0, 1, 0, 0]\n",
    "\n",
    "clf = clf.fit(X, y)\n",
    "print(clf.classes_)\n",
    "\n",
    "y_pred = clf.predict(X)\n",
    "print(y_pred)\n",
    "\n",
    "clf.score(X, y)"
   ]
  },
  {
   "cell_type": "code",
   "execution_count": 418,
   "id": "d21700b4-0cc8-4683-b7bb-92bdc03cbdfa",
   "metadata": {},
   "outputs": [],
   "source": [
    "y_proba = clf.predict_proba(X)"
   ]
  },
  {
   "cell_type": "code",
   "execution_count": 421,
   "id": "1b6a7b24-0e69-4df8-804b-5241c734f46e",
   "metadata": {},
   "outputs": [
    {
     "name": "stdout",
     "output_type": "stream",
     "text": [
      "[0.61826144 0.05425135 0.20752177 0.12484841 0.84513093 0.46874266\n",
      " 0.801107   0.61826144 0.26187523]\n"
     ]
    }
   ],
   "source": [
    "print(y_proba[:, 1])"
   ]
  },
  {
   "cell_type": "code",
   "execution_count": null,
   "id": "833f4bcf-70a2-47b8-967a-5913f0db1772",
   "metadata": {},
   "outputs": [],
   "source": []
  },
  {
   "cell_type": "code",
   "execution_count": 402,
   "id": "93a45ccb-1a9f-4193-a673-42fc45a0d35f",
   "metadata": {},
   "outputs": [
    {
     "data": {
      "text/plain": [
       "array([[0.35737282, 0.64262718],\n",
       "       [0.51049244, 0.48950756],\n",
       "       [0.79129363, 0.20870637],\n",
       "       [0.46255438, 0.53744562],\n",
       "       [0.60792128, 0.39207872],\n",
       "       [0.35054259, 0.64945741],\n",
       "       [0.3287257 , 0.6712743 ],\n",
       "       [0.5743567 , 0.4256433 ],\n",
       "       [0.26116408, 0.73883592],\n",
       "       [0.69276404, 0.30723596]])"
      ]
     },
     "execution_count": 402,
     "metadata": {},
     "output_type": "execute_result"
    }
   ],
   "source": [
    "clf.predict_proba(X)"
   ]
  },
  {
   "cell_type": "code",
   "execution_count": null,
   "id": "d5ac2962-e527-4873-bcf5-4228e3487071",
   "metadata": {},
   "outputs": [],
   "source": [
    "from sklearn.metrics import accuracy_score\n",
    "\n",
    "# прогнозные значения\n",
    "y_pred = [0, 0, 0, 1, 0, 1, 0, 0, 0, 1, 1, 0, 0, 1, 0, 0, 0, 0, 0, 0, 1]\n",
    "# истинные значения\n",
    "y_true = [0, 0, 0, 0, 0, 0, 0, 1, 0, 1, 0, 0, 0, 1, 0, 0, 0, 0, 0, 0, 1]\n",
    "\n",
    "acc = accuracy_score(y_true, y_pred)\n",
    "\n",
    "print(acc)"
   ]
  },
  {
   "cell_type": "code",
   "execution_count": null,
   "id": "b0920f03-adc7-4039-a244-b74fb9a91f2c",
   "metadata": {},
   "outputs": [],
   "source": []
  },
  {
   "cell_type": "code",
   "execution_count": null,
   "id": "5b2dfdda-efe7-4719-94ba-d3277c4c700e",
   "metadata": {},
   "outputs": [],
   "source": []
  },
  {
   "cell_type": "code",
   "execution_count": 455,
   "id": "952e0d19-285a-49fa-bb2e-62c8f301ee52",
   "metadata": {},
   "outputs": [
    {
     "name": "stdout",
     "output_type": "stream",
     "text": [
      "[1 0 0 1 0 1 1 0 1 0]\n",
      "0.6\n"
     ]
    }
   ],
   "source": [
    "from sklearn.linear_model import LogisticRegression\n",
    "from sklearn.metrics import accuracy_score\n",
    "\n",
    "# данные\n",
    "df = pd.DataFrame([\n",
    "    [ 31500, 111384,   561, 0],\n",
    "    [ 30600,  67500,  1660, 0],\n",
    "    [ 40500,  49752,  6065, 0],\n",
    "    [ 38250,  67500,   675, 0],\n",
    "    [ 36000,  71509,  3273, 0],\n",
    "    [ 31500, 122301,   810, 1],\n",
    "    [ 40950, 176211,  1996, 1],\n",
    "    [ 36000,  13500,   735, 1],\n",
    "    [ 31500, 197107,  1624, 1],\n",
    "    [ 36000,  27846,  3318, 1]],\n",
    "    columns=['client_income', 'credit_amount', 'employed_days', 'default'])\n",
    "\n",
    "# разбиваем данные на признаки и таргет\n",
    "X = df[['client_income', 'credit_amount', 'employed_days']]\n",
    "y = df['default']\n",
    "\n",
    "# обучаем модель на данных\n",
    "clf = clf.fit(X, y)\n",
    "\n",
    "# получаем прогнозные метки классов\n",
    "y_pred = clf.predict(X)\n",
    "\n",
    "# выводим прогнозные метки классов, любопытно посмотреть\n",
    "print(y_pred)\n",
    "\n",
    "# проводим оценку точности\n",
    "acc = accuracy_score(y, y_pred)\n",
    "print(acc)"
   ]
  },
  {
   "cell_type": "code",
   "execution_count": null,
   "id": "cf012161-5802-4c22-ab6b-2403b4b58cc4",
   "metadata": {},
   "outputs": [],
   "source": []
  },
  {
   "cell_type": "code",
   "execution_count": null,
   "id": "fbaea783-5bca-4548-8b8b-83e5e4da4ec2",
   "metadata": {},
   "outputs": [],
   "source": []
  },
  {
   "cell_type": "code",
   "execution_count": null,
   "id": "49b25013-8544-4cb6-9f22-f3565389f43b",
   "metadata": {},
   "outputs": [],
   "source": []
  },
  {
   "cell_type": "code",
   "execution_count": null,
   "id": "b8cace50-9550-49a1-904b-94a269a5246f",
   "metadata": {},
   "outputs": [],
   "source": []
  },
  {
   "cell_type": "code",
   "execution_count": null,
   "id": "9ecffe0c-d2a6-4d81-940b-be0cc8068a9e",
   "metadata": {},
   "outputs": [],
   "source": []
  },
  {
   "cell_type": "code",
   "execution_count": null,
   "id": "c095ae75-3850-4980-ae9f-8f602febfc9e",
   "metadata": {},
   "outputs": [],
   "source": []
  },
  {
   "cell_type": "code",
   "execution_count": null,
   "id": "2d4d601c-4f1e-4600-b1ed-75c0d7ef01b7",
   "metadata": {},
   "outputs": [],
   "source": []
  },
  {
   "cell_type": "code",
   "execution_count": null,
   "id": "96442ad8-3c85-42a0-9811-b54889abc579",
   "metadata": {},
   "outputs": [],
   "source": []
  },
  {
   "cell_type": "code",
   "execution_count": null,
   "id": "92bf707c-0708-44dc-afd7-555289621b0d",
   "metadata": {},
   "outputs": [],
   "source": []
  },
  {
   "cell_type": "code",
   "execution_count": null,
   "id": "f74cbc75-0ded-41d0-bb98-b7f921c449ec",
   "metadata": {},
   "outputs": [],
   "source": []
  },
  {
   "cell_type": "markdown",
   "id": "6c05a70b-1c22-41d7-9427-8ad7ce197c0d",
   "metadata": {},
   "source": [
    "# Banknote Dataset"
   ]
  },
  {
   "cell_type": "code",
   "execution_count": 52,
   "id": "cc63da02-ee3a-4488-a82c-95f88cd72a29",
   "metadata": {},
   "outputs": [],
   "source": [
    "df = pd.read_csv('/home/dmdp/workspace/datasets/banknote/data_banknote_authentication.txt', low_memory=False, header=None, names=['f1','f2','f3','f4','is_fake'])"
   ]
  },
  {
   "cell_type": "code",
   "execution_count": 53,
   "id": "16f2194d-71db-4dd1-9a68-8335643342d0",
   "metadata": {},
   "outputs": [
    {
     "data": {
      "text/html": [
       "<div>\n",
       "<style scoped>\n",
       "    .dataframe tbody tr th:only-of-type {\n",
       "        vertical-align: middle;\n",
       "    }\n",
       "\n",
       "    .dataframe tbody tr th {\n",
       "        vertical-align: top;\n",
       "    }\n",
       "\n",
       "    .dataframe thead th {\n",
       "        text-align: right;\n",
       "    }\n",
       "</style>\n",
       "<table border=\"1\" class=\"dataframe\">\n",
       "  <thead>\n",
       "    <tr style=\"text-align: right;\">\n",
       "      <th></th>\n",
       "      <th>f1</th>\n",
       "      <th>f2</th>\n",
       "      <th>f3</th>\n",
       "      <th>f4</th>\n",
       "      <th>is_fake</th>\n",
       "    </tr>\n",
       "  </thead>\n",
       "  <tbody>\n",
       "    <tr>\n",
       "      <th>0</th>\n",
       "      <td>3.62160</td>\n",
       "      <td>8.66610</td>\n",
       "      <td>-2.8073</td>\n",
       "      <td>-0.44699</td>\n",
       "      <td>0</td>\n",
       "    </tr>\n",
       "    <tr>\n",
       "      <th>1</th>\n",
       "      <td>4.54590</td>\n",
       "      <td>8.16740</td>\n",
       "      <td>-2.4586</td>\n",
       "      <td>-1.46210</td>\n",
       "      <td>0</td>\n",
       "    </tr>\n",
       "    <tr>\n",
       "      <th>2</th>\n",
       "      <td>3.86600</td>\n",
       "      <td>-2.63830</td>\n",
       "      <td>1.9242</td>\n",
       "      <td>0.10645</td>\n",
       "      <td>0</td>\n",
       "    </tr>\n",
       "    <tr>\n",
       "      <th>3</th>\n",
       "      <td>3.45660</td>\n",
       "      <td>9.52280</td>\n",
       "      <td>-4.0112</td>\n",
       "      <td>-3.59440</td>\n",
       "      <td>0</td>\n",
       "    </tr>\n",
       "    <tr>\n",
       "      <th>4</th>\n",
       "      <td>0.32924</td>\n",
       "      <td>-4.45520</td>\n",
       "      <td>4.5718</td>\n",
       "      <td>-0.98880</td>\n",
       "      <td>0</td>\n",
       "    </tr>\n",
       "    <tr>\n",
       "      <th>...</th>\n",
       "      <td>...</td>\n",
       "      <td>...</td>\n",
       "      <td>...</td>\n",
       "      <td>...</td>\n",
       "      <td>...</td>\n",
       "    </tr>\n",
       "    <tr>\n",
       "      <th>1367</th>\n",
       "      <td>0.40614</td>\n",
       "      <td>1.34920</td>\n",
       "      <td>-1.4501</td>\n",
       "      <td>-0.55949</td>\n",
       "      <td>1</td>\n",
       "    </tr>\n",
       "    <tr>\n",
       "      <th>1368</th>\n",
       "      <td>-1.38870</td>\n",
       "      <td>-4.87730</td>\n",
       "      <td>6.4774</td>\n",
       "      <td>0.34179</td>\n",
       "      <td>1</td>\n",
       "    </tr>\n",
       "    <tr>\n",
       "      <th>1369</th>\n",
       "      <td>-3.75030</td>\n",
       "      <td>-13.45860</td>\n",
       "      <td>17.5932</td>\n",
       "      <td>-2.77710</td>\n",
       "      <td>1</td>\n",
       "    </tr>\n",
       "    <tr>\n",
       "      <th>1370</th>\n",
       "      <td>-3.56370</td>\n",
       "      <td>-8.38270</td>\n",
       "      <td>12.3930</td>\n",
       "      <td>-1.28230</td>\n",
       "      <td>1</td>\n",
       "    </tr>\n",
       "    <tr>\n",
       "      <th>1371</th>\n",
       "      <td>-2.54190</td>\n",
       "      <td>-0.65804</td>\n",
       "      <td>2.6842</td>\n",
       "      <td>1.19520</td>\n",
       "      <td>1</td>\n",
       "    </tr>\n",
       "  </tbody>\n",
       "</table>\n",
       "<p>1372 rows × 5 columns</p>\n",
       "</div>"
      ],
      "text/plain": [
       "           f1        f2       f3       f4  is_fake\n",
       "0     3.62160   8.66610  -2.8073 -0.44699        0\n",
       "1     4.54590   8.16740  -2.4586 -1.46210        0\n",
       "2     3.86600  -2.63830   1.9242  0.10645        0\n",
       "3     3.45660   9.52280  -4.0112 -3.59440        0\n",
       "4     0.32924  -4.45520   4.5718 -0.98880        0\n",
       "...       ...       ...      ...      ...      ...\n",
       "1367  0.40614   1.34920  -1.4501 -0.55949        1\n",
       "1368 -1.38870  -4.87730   6.4774  0.34179        1\n",
       "1369 -3.75030 -13.45860  17.5932 -2.77710        1\n",
       "1370 -3.56370  -8.38270  12.3930 -1.28230        1\n",
       "1371 -2.54190  -0.65804   2.6842  1.19520        1\n",
       "\n",
       "[1372 rows x 5 columns]"
      ]
     },
     "execution_count": 53,
     "metadata": {},
     "output_type": "execute_result"
    }
   ],
   "source": [
    "df"
   ]
  },
  {
   "cell_type": "code",
   "execution_count": 58,
   "id": "49fe616d-9278-4f5f-b2d1-b31f3df8fa68",
   "metadata": {},
   "outputs": [],
   "source": [
    "clf_50 = LogisticRegression(random_state=0) #, class_weight='balanced')"
   ]
  },
  {
   "cell_type": "code",
   "execution_count": 59,
   "id": "6b946ae9-b033-469a-8150-48c7ad97e3f4",
   "metadata": {},
   "outputs": [],
   "source": [
    "feature_columns = ['f1','f2','f3','f4']\n",
    "target_column = 'is_fake'\n",
    "\n",
    "dft = df[feature_columns + [target_column]]\n",
    "\n",
    "X = dft[feature_columns]\n",
    "y = df.loc[dft.index][target_column]"
   ]
  },
  {
   "cell_type": "code",
   "execution_count": 60,
   "id": "c2558615-5e9a-4b63-b225-0d3bb5e4a0d0",
   "metadata": {},
   "outputs": [
    {
     "data": {
      "text/plain": [
       "0.4446064139941691"
      ]
     },
     "execution_count": 60,
     "metadata": {},
     "output_type": "execute_result"
    }
   ],
   "source": [
    "y.mean()"
   ]
  },
  {
   "cell_type": "code",
   "execution_count": null,
   "id": "abae6179-76d0-4195-8163-2c369e008770",
   "metadata": {},
   "outputs": [],
   "source": []
  },
  {
   "cell_type": "code",
   "execution_count": 61,
   "id": "be927dac-2c0c-4d8e-a739-f846330b24f1",
   "metadata": {},
   "outputs": [
    {
     "name": "stdout",
     "output_type": "stream",
     "text": [
      "[0 1]\n"
     ]
    }
   ],
   "source": [
    "clf_50 = clf_50.fit(X, y)\n",
    "print(clf_50.classes_)\n",
    "\n",
    "y_pred = clf_50.predict(X)"
   ]
  },
  {
   "cell_type": "code",
   "execution_count": 62,
   "id": "0f23d4af-296c-4986-ab7f-4ab264846433",
   "metadata": {},
   "outputs": [
    {
     "name": "stdout",
     "output_type": "stream",
     "text": [
      "accuracy: 0.98980\n",
      "precision: 0.98377\n",
      "recall: 0.99344\n",
      "f1: 0.98858\n"
     ]
    }
   ],
   "source": [
    "scoring(y_true=y, y_pred=y_pred)"
   ]
  },
  {
   "cell_type": "code",
   "execution_count": null,
   "id": "a628ab72-8000-4341-bb31-62c0b682b140",
   "metadata": {},
   "outputs": [],
   "source": []
  },
  {
   "cell_type": "code",
   "execution_count": null,
   "id": "40cd5b39-6311-4a1f-a156-02de7d2c4165",
   "metadata": {},
   "outputs": [],
   "source": []
  },
  {
   "cell_type": "code",
   "execution_count": null,
   "id": "0070fc9f-d217-4c40-a4d5-256295b817d6",
   "metadata": {},
   "outputs": [],
   "source": []
  }
 ],
 "metadata": {
  "kernelspec": {
   "display_name": "Python 3 (ipykernel)",
   "language": "python",
   "name": "python3"
  },
  "language_info": {
   "codemirror_mode": {
    "name": "ipython",
    "version": 3
   },
   "file_extension": ".py",
   "mimetype": "text/x-python",
   "name": "python",
   "nbconvert_exporter": "python",
   "pygments_lexer": "ipython3",
   "version": "3.9.13"
  }
 },
 "nbformat": 4,
 "nbformat_minor": 5
}
